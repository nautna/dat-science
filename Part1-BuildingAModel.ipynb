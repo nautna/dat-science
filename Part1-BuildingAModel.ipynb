{
 "cells": [
  {
   "cell_type": "markdown",
   "metadata": {},
   "source": [
    "# Guided Practice: Multiple Regression Analysis using citi bike data "
   ]
  },
  {
   "cell_type": "code",
   "execution_count": 1,
   "metadata": {
    "collapsed": false
   },
   "outputs": [
    {
     "data": {
      "text/html": [
       "<div>\n",
       "<table border=\"1\" class=\"dataframe\">\n",
       "  <thead>\n",
       "    <tr style=\"text-align: right;\">\n",
       "      <th></th>\n",
       "      <th>instant</th>\n",
       "      <th>dteday</th>\n",
       "      <th>season</th>\n",
       "      <th>yr</th>\n",
       "      <th>mnth</th>\n",
       "      <th>hr</th>\n",
       "      <th>holiday</th>\n",
       "      <th>weekday</th>\n",
       "      <th>workingday</th>\n",
       "      <th>weathersit</th>\n",
       "      <th>temp</th>\n",
       "      <th>atemp</th>\n",
       "      <th>hum</th>\n",
       "      <th>windspeed</th>\n",
       "      <th>casual</th>\n",
       "      <th>registered</th>\n",
       "      <th>cnt</th>\n",
       "    </tr>\n",
       "  </thead>\n",
       "  <tbody>\n",
       "    <tr>\n",
       "      <th>0</th>\n",
       "      <td>1</td>\n",
       "      <td>2011-01-01</td>\n",
       "      <td>1</td>\n",
       "      <td>0</td>\n",
       "      <td>1</td>\n",
       "      <td>0</td>\n",
       "      <td>0</td>\n",
       "      <td>6</td>\n",
       "      <td>0</td>\n",
       "      <td>1</td>\n",
       "      <td>0.24</td>\n",
       "      <td>0.2879</td>\n",
       "      <td>0.81</td>\n",
       "      <td>0.0</td>\n",
       "      <td>3</td>\n",
       "      <td>13</td>\n",
       "      <td>16</td>\n",
       "    </tr>\n",
       "    <tr>\n",
       "      <th>1</th>\n",
       "      <td>2</td>\n",
       "      <td>2011-01-01</td>\n",
       "      <td>1</td>\n",
       "      <td>0</td>\n",
       "      <td>1</td>\n",
       "      <td>1</td>\n",
       "      <td>0</td>\n",
       "      <td>6</td>\n",
       "      <td>0</td>\n",
       "      <td>1</td>\n",
       "      <td>0.22</td>\n",
       "      <td>0.2727</td>\n",
       "      <td>0.80</td>\n",
       "      <td>0.0</td>\n",
       "      <td>8</td>\n",
       "      <td>32</td>\n",
       "      <td>40</td>\n",
       "    </tr>\n",
       "    <tr>\n",
       "      <th>2</th>\n",
       "      <td>3</td>\n",
       "      <td>2011-01-01</td>\n",
       "      <td>1</td>\n",
       "      <td>0</td>\n",
       "      <td>1</td>\n",
       "      <td>2</td>\n",
       "      <td>0</td>\n",
       "      <td>6</td>\n",
       "      <td>0</td>\n",
       "      <td>1</td>\n",
       "      <td>0.22</td>\n",
       "      <td>0.2727</td>\n",
       "      <td>0.80</td>\n",
       "      <td>0.0</td>\n",
       "      <td>5</td>\n",
       "      <td>27</td>\n",
       "      <td>32</td>\n",
       "    </tr>\n",
       "    <tr>\n",
       "      <th>3</th>\n",
       "      <td>4</td>\n",
       "      <td>2011-01-01</td>\n",
       "      <td>1</td>\n",
       "      <td>0</td>\n",
       "      <td>1</td>\n",
       "      <td>3</td>\n",
       "      <td>0</td>\n",
       "      <td>6</td>\n",
       "      <td>0</td>\n",
       "      <td>1</td>\n",
       "      <td>0.24</td>\n",
       "      <td>0.2879</td>\n",
       "      <td>0.75</td>\n",
       "      <td>0.0</td>\n",
       "      <td>3</td>\n",
       "      <td>10</td>\n",
       "      <td>13</td>\n",
       "    </tr>\n",
       "    <tr>\n",
       "      <th>4</th>\n",
       "      <td>5</td>\n",
       "      <td>2011-01-01</td>\n",
       "      <td>1</td>\n",
       "      <td>0</td>\n",
       "      <td>1</td>\n",
       "      <td>4</td>\n",
       "      <td>0</td>\n",
       "      <td>6</td>\n",
       "      <td>0</td>\n",
       "      <td>1</td>\n",
       "      <td>0.24</td>\n",
       "      <td>0.2879</td>\n",
       "      <td>0.75</td>\n",
       "      <td>0.0</td>\n",
       "      <td>0</td>\n",
       "      <td>1</td>\n",
       "      <td>1</td>\n",
       "    </tr>\n",
       "  </tbody>\n",
       "</table>\n",
       "</div>"
      ],
      "text/plain": [
       "   instant      dteday  season  yr  mnth  hr  holiday  weekday  workingday  \\\n",
       "0        1  2011-01-01       1   0     1   0        0        6           0   \n",
       "1        2  2011-01-01       1   0     1   1        0        6           0   \n",
       "2        3  2011-01-01       1   0     1   2        0        6           0   \n",
       "3        4  2011-01-01       1   0     1   3        0        6           0   \n",
       "4        5  2011-01-01       1   0     1   4        0        6           0   \n",
       "\n",
       "   weathersit  temp   atemp   hum  windspeed  casual  registered  cnt  \n",
       "0           1  0.24  0.2879  0.81        0.0       3          13   16  \n",
       "1           1  0.22  0.2727  0.80        0.0       8          32   40  \n",
       "2           1  0.22  0.2727  0.80        0.0       5          27   32  \n",
       "3           1  0.24  0.2879  0.75        0.0       3          10   13  \n",
       "4           1  0.24  0.2879  0.75        0.0       0           1    1  "
      ]
     },
     "execution_count": 1,
     "metadata": {},
     "output_type": "execute_result"
    }
   ],
   "source": [
    "import numpy as np\n",
    "import pandas as pd\n",
    "import seaborn as sns\n",
    "from sklearn import linear_model, metrics\n",
    "\n",
    "import statsmodels.api as sm\n",
    "\n",
    "%matplotlib inline\n",
    "\n",
    "bike_data = pd.read_csv('https://github.com/ga-students/DAT-NYC-37/raw/master/lessons/lesson-07/assets/dataset/bikeshare.csv')\n",
    "bike_data.head()"
   ]
  },
  {
   "cell_type": "markdown",
   "metadata": {},
   "source": [
    "### Review! Distributions:"
   ]
  },
  {
   "cell_type": "code",
   "execution_count": 2,
   "metadata": {
    "collapsed": false
   },
   "outputs": [
    {
     "name": "stdout",
     "output_type": "stream",
     "text": [
      "-0.00602088334827\n",
      "-0.94184420407\n"
     ]
    },
    {
     "data": {
      "image/png": "[encoded data removed]",
      "text/plain": [
       "<matplotlib.figure.Figure at 0x109942710>"
      ]
     },
     "execution_count": 2,
     "metadata": {},
     "output_type": "execute_result"
    },
    {
     "data": {
      "image/png": "[encoded data removed]",
      "text/plain": [
       "<matplotlib.figure.Figure at 0x103b2fc50>"
      ]
     },
     "metadata": {},
     "output_type": "display_data"
    },
    {
     "data": {
      "image/png": "[encoded data removed]",
      "text/plain": [
       "<matplotlib.figure.Figure at 0x109942710>"
      ]
     },
     "metadata": {},
     "output_type": "display_data"
    }
   ],
   "source": [
    "print bike_data['temp'].skew()\n",
    "print bike_data['temp'].kurt()\n",
    "\n",
    "bike_data['temp'].hist(bins=20)\n",
    "sm.qqplot(bike_data['temp'], fit=True)"
   ]
  },
  {
   "cell_type": "markdown",
   "metadata": {},
   "source": [
    "![QQ plot types](http://i.stack.imgur.com/ZXRkL.png)"
   ]
  },
  {
   "cell_type": "markdown",
   "metadata": {},
   "source": [
    "There can be a similar effect from a feature set that is a singular matrix, which is when there is a clear relationship in the matrix (for example, the sum of all rows = 1).\n",
    "\n",
    "### Run through the following code on your own.\n",
    "#### What happens to the coefficients when you include all weather situations instead of just including all except one?"
   ]
  },
  {
   "cell_type": "code",
   "execution_count": null,
   "metadata": {
    "collapsed": true
   },
   "outputs": [],
   "source": [
    "from sklearn import feature_selection, linear_model\n",
    "\n",
    "# From last class...\n",
    "def get_linear_model_metrics(X, y):\n",
    "    \n",
    "    # *TODO* 1: Describe in your words\n",
    "    model = linear_model.LinearRegression()   # Specify the model\n",
    "    pvals = feature_selection.f_regression(X, y)[1]  # Defining the model\n",
    "    # get the pvalue of X given y. Ignore f-stat for now.\n",
    "    \n",
    "    # *TODO*: Describe in your words\n",
    "    \n",
    "    # start with an empty linear regression object\n",
    "    # .fit() runs the linear regression function on X and y\n",
    "    model.fit(X, y)\n",
    "\n",
    "    residuals = (y - model.predict(X)).values\n",
    "\n",
    "    # print the necessary values\n",
    "    # *TODO*: Describe in your words\n",
    "    print 'P Values:', pvals\n",
    "    print 'Coefficients:', model.coef_\n",
    "    print 'y-intercept:', model.intercept_\n",
    "    print 'R-Squared:', model.score(X,y)\n",
    "    print\n",
    "    \n",
    "    # keep the model\n",
    "    return model"
   ]
  },
  {
   "cell_type": "code",
   "execution_count": null,
   "metadata": {
    "collapsed": false
   },
   "outputs": [],
   "source": [
    "y = bike_data['casual']\n",
    "\n",
    "lm = linear_model.LinearRegression()\n",
    "weather = pd.get_dummies(bike_data.weathersit)\n",
    "\n",
    "get_linear_model_metrics(weather[[1, 2, 3, 4]], y)\n",
    "\n",
    "# Set one weather as the reference (drop it), weather situation  = 4\n",
    "get_linear_model_metrics(weather[[1, 2, 3]], y)"
   ]
  },
  {
   "cell_type": "markdown",
   "metadata": {},
   "source": [
    "# Building a model to predict guest ridership\n",
    "With a partner, complete this code together and visualize the correlations of all the numerical features built into the data set.\n",
    "\n",
    "We want to:\n",
    "- Id categorical variables\n",
    "- Create dummies (weather situation is done for you in the starter code)\n",
    "- Find at least two more features that are not correlated with current features, but could be strong indicators for predicting guest riders."
   ]
  },
  {
   "cell_type": "code",
   "execution_count": null,
   "metadata": {
    "collapsed": true
   },
   "outputs": [],
   "source": [
    "# Hint: use sns.heatmap or sns.pairplot(df) to explore your variable relationships!"
   ]
  },
  {
   "cell_type": "code",
   "execution_count": 60,
   "metadata": {
    "collapsed": false
   },
   "outputs": [
    {
     "data": {
      "text/plain": [
       "0    13\n",
       "1    32\n",
       "2    27\n",
       "3    10\n",
       "4     1\n",
       "Name: registered, dtype: int64"
      ]
     },
     "execution_count": 60,
     "metadata": {},
     "output_type": "execute_result"
    }
   ],
   "source": [
    "bikemodel_data['registered'].head()"
   ]
  },
  {
   "cell_type": "code",
   "execution_count": 11,
   "metadata": {
    "collapsed": false
   },
   "outputs": [
    {
     "data": {
      "text/plain": [
       "Int64Index([0, 1], dtype='int64')"
      ]
     },
     "execution_count": 11,
     "metadata": {},
     "output_type": "execute_result"
    }
   ],
   "source": [
    "workday.columns"
   ]
  },
  {
   "cell_type": "code",
   "execution_count": 64,
   "metadata": {
    "collapsed": false
   },
   "outputs": [
    {
     "name": "stdout",
     "output_type": "stream",
     "text": [
      "Index([u'instant', u'dteday', u'season', u'yr', u'mnth', u'hr', u'holiday',\n",
      "       u'weekday', u'workingday', u'weathersit', u'temp', u'atemp', u'hum',\n",
      "       u'windspeed', u'casual', u'registered', u'cnt', u'weather_1',\n",
      "       u'weather_2', u'weather_3', u'weather_4', u'notworkday', u'workday',\n",
      "       u'season_1', u'season_2', u'season_3', u'season_4'],\n",
      "      dtype='object')\n",
      "                temp  weather_1  weather_2  weather_3  windspeed   workday  \\\n",
      "temp        1.000000   0.101044  -0.069657  -0.062406  -0.023125  0.055390   \n",
      "weather_1   0.101044   1.000000  -0.822961  -0.412414   0.005150 -0.041633   \n",
      "weather_2  -0.069657  -0.822961   1.000000  -0.177417  -0.049241  0.024960   \n",
      "weather_3  -0.062406  -0.412414  -0.177417   1.000000   0.070018  0.032155   \n",
      "windspeed  -0.023125   0.005150  -0.049241   0.070018   1.000000 -0.011830   \n",
      "workday     0.055390  -0.041633   0.024960   0.032155  -0.011830  1.000000   \n",
      "season_2    0.144363  -0.010150  -0.002648   0.022216   0.063447  0.015879   \n",
      "hum        -0.069881  -0.383425   0.220758   0.309737  -0.290105  0.015688   \n",
      "registered  0.335361   0.096290  -0.032302  -0.114783   0.082321  0.134326   \n",
      "\n",
      "            season_2       hum  registered  \n",
      "temp        0.144363 -0.069881    0.335361  \n",
      "weather_1  -0.010150 -0.383425    0.096290  \n",
      "weather_2  -0.002648  0.220758   -0.032302  \n",
      "weather_3   0.022216  0.309737   -0.114783  \n",
      "windspeed   0.063447 -0.290105    0.082321  \n",
      "workday     0.015879  0.015688    0.134326  \n",
      "season_2    1.000000 -0.000625    0.032345  \n",
      "hum        -0.000625  1.000000   -0.273933  \n",
      "registered  0.032345 -0.273933    1.000000  \n",
      "Axes(0.125,0.125;0.62x0.775)\n"
     ]
    },
    {
     "data": {
      "image/png": "[encoded data removed]",
      "text/plain": [
       "<matplotlib.figure.Figure at 0x11c8bd2d0>"
      ]
     },
     "metadata": {},
     "output_type": "display_data"
    }
   ],
   "source": [
    "# Sample starter code (hints!)\n",
    "\n",
    "#Dummies example: \n",
    "weather = pd.get_dummies(bike_data.weathersit)\n",
    "workday = pd.get_dummies(bike_data.workingday)\n",
    "seasons = pd.get_dummies(bike_data.season)\n",
    "\n",
    "#create new names for our new dummy variables\n",
    "weather.columns = ['weather_' + str(i) for i in weather.columns]\n",
    "workday.columns = ['notworkday', 'workday' ]\n",
    "seasons.columns = ['season_' + str(i) for i in seasons.columns]\n",
    "\n",
    "#join those new variables back into the larger dataset\n",
    "bikemodel_data = bike_data.join([weather, workday, seasons])\n",
    "print bikemodel_data.columns\n",
    "\n",
    "#Select columns to keep. Don't forget to set a reference category for your dummies (aka drop one)\n",
    "columns_to_keep = ['temp', 'weather_1', 'weather_2', 'weather_3', 'windspeed', 'workday', \n",
    "                   'season_2', 'hum', 'registered'] #[which_variables?]\n",
    "\n",
    "#checking for colinearity\n",
    "cmap = sns.diverging_palette(220, 10, as_cmap=True)\n",
    "correlations = bikemodel_data[columns_to_keep].corr()# what are we getting the correlations of?\n",
    "all_col = bikemodel_data.corr()\n",
    "\n",
    "print correlations\n",
    "print sns.heatmap(correlations, cmap=cmap)"
   ]
  },
  {
   "cell_type": "markdown",
   "metadata": {},
   "source": [
    "## Independent Practice: Building model to predict guest ridership \n",
    "\n",
    "\n",
    "#### Pay attention to:\n",
    "* Which variables would make sense to dummy (because they are categorical, not continuous)? \n",
    "* the distribution of riders (should we rescale the data?)  \n",
    "* checking correlations with variables and guest riders  \n",
    "* having a feature space (our matrix) with low multicollinearity  \n",
    "* the linear assumption -- given all feature values being 0, should we have no ridership? negative ridership? positive ridership?\n",
    "* What features might explain ridership but aren't included in the data set? \n",
    "\n",
    "### You're done when:  \n",
    "If your model has an r-squared above .4, this a relatively effective model for the data available. Kudos! Move on to the bonus!"
   ]
  },
  {
   "cell_type": "code",
   "execution_count": 62,
   "metadata": {
    "collapsed": true
   },
   "outputs": [],
   "source": [
    "# your code here...\n",
    "from sklearn import feature_selection, linear_model\n",
    "\n",
    "def linear_model_reg(X, y):\n",
    "    model = linear_model.LinearRegression()\n",
    "    pvals = feature_selection.f_regression(X, y)[1]\n",
    "    \n",
    "    model.fit(X, y)\n",
    "    \n",
    "    residuals = (y - model.predict(X)).values\n",
    "    \n",
    "    print 'P Values: ', pvals\n",
    "    print 'Coeff: ', model.coef_\n",
    "    print 'Y-intercept: ', model.intercept_\n",
    "    print 'R^2: ', model.score(X, y)\n",
    "    print\n",
    "    \n",
    "    return model"
   ]
  },
  {
   "cell_type": "code",
   "execution_count": 63,
   "metadata": {
    "collapsed": false
   },
   "outputs": [
    {
     "name": "stdout",
     "output_type": "stream",
     "text": [
      "P Values:  [  0.00000000e+00   3.75616929e-73   3.43170021e-22   1.57718666e-55\n",
      "   8.66781628e-33   0.00000000e+00   1.70941845e-60   0.00000000e+00\n",
      "   0.00000000e+00]\n",
      "Coeff:  [ 84.0574785  -21.42343852 -18.24050893 -15.22209564  -4.54332418\n",
      " -39.23729474   7.92125153 -59.48662468   0.12577081]\n",
      "Y-intercept:  57.5939155715\n",
      "R^2:  0.540158970278\n",
      "\n"
     ]
    },
    {
     "data": {
      "text/plain": [
       "LinearRegression(copy_X=True, fit_intercept=True, n_jobs=1, normalize=False)"
      ]
     },
     "execution_count": 63,
     "metadata": {},
     "output_type": "execute_result"
    }
   ],
   "source": [
    "linear_model_reg(bikemodel_data[columns_to_keep], bikemodel_data['casual'])"
   ]
  },
  {
   "cell_type": "markdown",
   "metadata": {},
   "source": [
    "#### 1: What's the strongest predictor? "
   ]
  },
  {
   "cell_type": "markdown",
   "metadata": {},
   "source": [
    "Answer: temperature, given its coefficient of 115 and p value of 0. no other predictor comes to this absolute magnitude"
   ]
  },
  {
   "cell_type": "markdown",
   "metadata": {},
   "source": [
    "#### 2: How well did your model do? "
   ]
  },
  {
   "cell_type": "markdown",
   "metadata": {},
   "source": [
    "Answer: pretty well. R^2 is slightly greater than 0.4"
   ]
  },
  {
   "cell_type": "markdown",
   "metadata": {},
   "source": [
    "#### 3: How can you improve it? "
   ]
  },
  {
   "cell_type": "markdown",
   "metadata": {},
   "source": [
    "Answer: adding 'registered' returned a value above .5!"
   ]
  },
  {
   "cell_type": "markdown",
   "metadata": {
    "collapsed": true
   },
   "source": [
    "### Bonus:\n",
    "    \n",
    "We've completed a model that explains casual guest riders. Now it's your turn to build another model, using a different y (outcome) variable: registered riders."
   ]
  },
  {
   "cell_type": "markdown",
   "metadata": {
    "collapsed": true
   },
   "source": [
    "**Bonus 1:** What's the strongest predictor? "
   ]
  },
  {
   "cell_type": "code",
   "execution_count": 87,
   "metadata": {
    "collapsed": false
   },
   "outputs": [
    {
     "data": {
      "text/plain": [
       "Index([u'instant', u'dteday', u'season', u'yr', u'mnth', u'hr', u'holiday',\n",
       "       u'weekday', u'workingday', u'weathersit', u'temp', u'atemp', u'hum',\n",
       "       u'windspeed', u'casual', u'registered', u'cnt', u'weather_1',\n",
       "       u'weather_2', u'weather_3', u'weather_4', u'notworkday', u'workday',\n",
       "       u'season_1', u'season_2', u'season_3', u'season_4'],\n",
       "      dtype='object')"
      ]
     },
     "execution_count": 87,
     "metadata": {},
     "output_type": "execute_result"
    }
   ],
   "source": [
    "bikemodel_data.columns"
   ]
  },
  {
   "cell_type": "code",
   "execution_count": 88,
   "metadata": {
    "collapsed": true
   },
   "outputs": [],
   "source": [
    "model2_cols = ['temp', 'weather_1', 'weather_3', 'windspeed', 'workday', 'hr',\n",
    "                   'season_2', 'hum', 'cnt']"
   ]
  },
  {
   "cell_type": "code",
   "execution_count": 89,
   "metadata": {
    "collapsed": false
   },
   "outputs": [],
   "source": [
    "corr2 = bikemodel_data[model2_cols].corr()"
   ]
  },
  {
   "cell_type": "code",
   "execution_count": 90,
   "metadata": {
    "collapsed": false
   },
   "outputs": [
    {
     "name": "stdout",
     "output_type": "stream",
     "text": [
      "               temp  weather_1  weather_3  windspeed   workday        hr  \\\n",
      "temp       1.000000   0.101044  -0.062406  -0.023125  0.055390  0.137603   \n",
      "weather_1  0.101044   1.000000  -0.412414   0.005150 -0.041633  0.036999   \n",
      "weather_3 -0.062406  -0.412414   1.000000   0.070018  0.032155  0.016963   \n",
      "windspeed -0.023125   0.005150   0.070018   1.000000 -0.011830  0.137252   \n",
      "workday    0.055390  -0.041633   0.032155  -0.011830  1.000000  0.002285   \n",
      "hr         0.137603   0.036999   0.016963   0.137252  0.002285  1.000000   \n",
      "season_2   0.144363  -0.010150   0.022216   0.063447  0.015879 -0.002919   \n",
      "hum       -0.069881  -0.383425   0.309737  -0.290105  0.015688 -0.276498   \n",
      "cnt        0.404772   0.117478  -0.128034   0.093234  0.030284  0.394071   \n",
      "\n",
      "           season_2       hum       cnt  \n",
      "temp       0.144363 -0.069881  0.404772  \n",
      "weather_1 -0.010150 -0.383425  0.117478  \n",
      "weather_3  0.022216  0.309737 -0.128034  \n",
      "windspeed  0.063447 -0.290105  0.093234  \n",
      "workday    0.015879  0.015688  0.030284  \n",
      "hr        -0.002919 -0.276498  0.394071  \n",
      "season_2   1.000000 -0.000625  0.060692  \n",
      "hum       -0.000625  1.000000 -0.322911  \n",
      "cnt        0.060692 -0.322911  1.000000  \n"
     ]
    }
   ],
   "source": [
    "print corr2"
   ]
  },
  {
   "cell_type": "code",
   "execution_count": 91,
   "metadata": {
    "collapsed": false
   },
   "outputs": [
    {
     "data": {
      "text/plain": [
       "<matplotlib.axes._subplots.AxesSubplot at 0x119ae57d0>"
      ]
     },
     "execution_count": 91,
     "metadata": {},
     "output_type": "execute_result"
    },
    {
     "data": {
      "image/png": "[encoded data removed]",
      "text/plain": [
       "<matplotlib.figure.Figure at 0x118687150>"
      ]
     },
     "metadata": {},
     "output_type": "display_data"
    }
   ],
   "source": [
    "sns.heatmap(corr2)"
   ]
  },
  {
   "cell_type": "code",
   "execution_count": 92,
   "metadata": {
    "collapsed": false
   },
   "outputs": [
    {
     "name": "stdout",
     "output_type": "stream",
     "text": [
      "P Values:  [  0.00000000e+000   4.43016006e-037   4.73056490e-052   1.60231470e-027\n",
      "   8.83608168e-071   0.00000000e+000   1.99995088e-005   1.01368000e-296\n",
      "   0.00000000e+000]\n",
      "Coeff:  [ -5.99424411e+01   2.03456144e+00  -3.40329051e+00   5.22295484e+00\n",
      "   3.50468066e+01  -5.89937501e-02  -6.99873615e+00   4.10013325e+01\n",
      "   8.48611678e-01]\n",
      "Y-intercept:  -26.4418560526\n",
      "R^2:  0.963255220124\n",
      "\n"
     ]
    },
    {
     "data": {
      "text/plain": [
       "LinearRegression(copy_X=True, fit_intercept=True, n_jobs=1, normalize=False)"
      ]
     },
     "execution_count": 92,
     "metadata": {},
     "output_type": "execute_result"
    }
   ],
   "source": [
    "linear_model_reg(bikemodel_data[model2_cols], bikemodel_data['registered'])"
   ]
  },
  {
   "cell_type": "code",
   "execution_count": null,
   "metadata": {
    "collapsed": true
   },
   "outputs": [],
   "source": []
  },
  {
   "cell_type": "markdown",
   "metadata": {},
   "source": [
    "**Bonus 2:** How well did your model do? "
   ]
  },
  {
   "cell_type": "markdown",
   "metadata": {},
   "source": [
    "**Bonus 3:** How can you improve it? "
   ]
  },
  {
   "cell_type": "markdown",
   "metadata": {},
   "source": [
    "### Additional Resources:\n",
    "\n",
    "- Good explanation of when to apply log scaling: http://stats.stackexchange.com/a/28007"
   ]
  }
 ],
 "metadata": {
  "kernelspec": {
   "display_name": "Python 2",
   "language": "python",
   "name": "python2"
  },
  "language_info": {
   "codemirror_mode": {
    "name": "ipython",
    "version": 2
   },
   "file_extension": ".py",
   "mimetype": "text/x-python",
   "name": "python",
   "nbconvert_exporter": "python",
   "pygments_lexer": "ipython2",
   "version": "2.7.11"
  }
 },
 "nbformat": 4,
 "nbformat_minor": 0
}
