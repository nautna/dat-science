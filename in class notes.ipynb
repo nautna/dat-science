{
 "cells": [
  {
   "cell_type": "markdown",
   "metadata": {},
   "source": [
    "__Questions__:\n",
    "1. How to select features (feature selection)?\n",
    "2. Multiple Regression\n",
    "3. Stats models vs sklearn\n",
    "4. Stats concepts (how they relate to p-values)\n",
    "    - t-statistic\n",
    "    - f-statistic\n",
    "    - z-score\n",
    "5. Categorical & dummy variables   "
   ]
  },
  {
   "cell_type": "markdown",
   "metadata": {},
   "source": [
    "The data points which you use to draw a predictive line are what make up your 'training model.'"
   ]
  },
  {
   "cell_type": "code",
   "execution_count": null,
   "metadata": {
    "collapsed": true
   },
   "outputs": [],
   "source": []
  }
 ],
 "metadata": {
  "kernelspec": {
   "display_name": "Python 2",
   "language": "python",
   "name": "python2"
  },
  "language_info": {
   "codemirror_mode": {
    "name": "ipython",
    "version": 2
   },
   "file_extension": ".py",
   "mimetype": "text/x-python",
   "name": "python",
   "nbconvert_exporter": "python",
   "pygments_lexer": "ipython2",
   "version": "2.7.11"
  }
 },
 "nbformat": 4,
 "nbformat_minor": 0
}
