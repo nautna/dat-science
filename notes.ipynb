{
 "cells": [
  {
   "cell_type": "markdown",
   "metadata": {},
   "source": [
    "### Regression:\n",
    "Predicating a _continuous_ ouptut (target) from one or more feature variables\n",
    "*Line of Best Fit*\n",
    "\n",
    "### Classification:\n",
    "Predicating a _categorical_ target variable given one or more featuer variables\n",
    "*line/boundary of best separation*"
   ]
  },
  {
   "cell_type": "markdown",
   "metadata": {
    "collapsed": true
   },
   "source": [
    "logistic regression : discrete variables :: linear regression : continuous variables"
   ]
  },
  {
   "cell_type": "markdown",
   "metadata": {},
   "source": [
    "Fit(X_train, y_train)\n",
    "\n",
    "X_train: 1+ features with x number of rows\n",
    "y_train: exactly 1 outcome with x number of rows\n",
    "\n",
    "dimensions have to match"
   ]
  },
  {
   "cell_type": "markdown",
   "metadata": {},
   "source": [
    "P = (1 / (1 + e^-x)\n",
    "where: X = beta_0 + beata_1 * x_1 + beta_2 * x_2 ...\n",
    "\n",
    "note, the X we are fitting is a polynomial of the form of linear regression"
   ]
  },
  {
   "cell_type": "markdown",
   "metadata": {},
   "source": [
    "### Pros:\n",
    "#### Linear Regression\n",
    "- simple to understand\n",
    "- workhorse for predicting/modeling continuous outcomes\n",
    "- good for exploratory analysis (determining statistical significance):\n",
    " 1. p-values\n",
    " 2. degree of fit\n",
    " 3. F values\n",
    " \n",
    "#### KNN (classifier)\n",
    "- super simple\n",
    "- good for multiple classes (non-binary target variable)\n",
    "- quick to train\n",
    "- handles complexity well (weird boundaries are handled well; don't need high-order polynomial to fit)\n",
    "\n",
    "#### Logistic Regression (classifier)\n",
    "- yields probability of predictions\n",
    "- relatively fast to train\n",
    "\n",
    "### Cons:\n",
    "#### Linear Regression\n",
    "- overfitting (too many features or too many high order terms)\n",
    "- requires normally distributed data\n",
    "\n",
    "#### KNN\n",
    "- doesn't always tell you probabilities\n",
    "- have to choose k\n",
    "- sensitive to noise\n",
    "- prediction can be slow for large datasets\n",
    "- no closed form definition of boundary (e.g. equation)\n",
    "\n",
    "#### Logistic Regression\n",
    "- hard to handle complexity (actually fitting a function)\n",
    "- can overfit if too many features\n",
    "\n",
    "\n",
    "\n",
    " "
   ]
  },
  {
   "cell_type": "code",
   "execution_count": null,
   "metadata": {
    "collapsed": true
   },
   "outputs": [],
   "source": []
  }
 ],
 "metadata": {
  "kernelspec": {
   "display_name": "Python 2",
   "language": "python",
   "name": "python2"
  },
  "language_info": {
   "codemirror_mode": {
    "name": "ipython",
    "version": 2
   },
   "file_extension": ".py",
   "mimetype": "text/x-python",
   "name": "python",
   "nbconvert_exporter": "python",
   "pygments_lexer": "ipython2",
   "version": "2.7.11"
  }
 },
 "nbformat": 4,
 "nbformat_minor": 0
}
